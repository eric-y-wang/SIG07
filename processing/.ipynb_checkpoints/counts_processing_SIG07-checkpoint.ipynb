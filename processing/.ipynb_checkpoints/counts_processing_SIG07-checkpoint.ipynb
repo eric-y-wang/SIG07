{
 "cells": [
  {
   "cell_type": "code",
   "execution_count": 2,
   "id": "783ce3e2-7357-4f64-bd70-d4601bf670fc",
   "metadata": {},
   "outputs": [],
   "source": [
    "import numpy as np\n",
    "import scanpy as sc\n",
    "import anndata as ad\n",
    "import pandas as pd\n",
    "import seaborn as sns\n",
    "import matplotlib as mpl\n",
    "import matplotlib.pyplot as plt\n",
    "import matplotlib.colors as mcolors\n",
    "from matplotlib import cm\n",
    "import re\n",
    "plt.rcParams['figure.dpi'] = 100\n",
    "plt.rcParams['savefig.dpi'] = 300"
   ]
  },
  {
   "cell_type": "markdown",
   "id": "8f074ce6-9f4c-4337-b5b8-140339579163",
   "metadata": {},
   "source": [
    "# Import Data"
   ]
  },
  {
   "cell_type": "code",
   "execution_count": 3,
   "id": "1eb87950-69fd-4cb4-b451-babb3063efc6",
   "metadata": {},
   "outputs": [],
   "source": [
    "adata = ad.read_h5ad('/data/rudensky/EYW/SIG07/scanpy_outs/SIG07_doublets_CR_RNA_zscore.h5ad')\n",
    "adata.X = adata.layers['log1p_norm'].copy()"
   ]
  },
  {
   "cell_type": "code",
   "execution_count": 4,
   "id": "37bfa802-ffbf-4810-8e71-7daf5012217c",
   "metadata": {},
   "outputs": [
    {
     "name": "stdout",
     "output_type": "stream",
     "text": [
      "['IL4_linker' 'IL4_IL12' 'IL12_IFNA' 'IL4_IFNA' 'IL12_linker' 'IL12_IL6'\n",
      " 'IL2_TNF' 'IL21_linker' 'IFNA_linker' 'IL2_linker' 'IL2_IL6' 'IL4_IL6'\n",
      " 'TNF_linker' 'IL2_IL12' 'IL2_IL4' 'IFNA_TNF' 'IL6_linker' 'IL4_IL21'\n",
      " 'IL4_IL27' 'linker_linker' 'IL27_linker' 'IL27_TNF' 'IFNA_IL27'\n",
      " 'IL6_IL21' 'IL2_IL27' 'IL4_TNF' 'IL6_TNF' 'IL2_IL21' 'IL6_IFNA'\n",
      " 'IL6_IL27' 'IL2_IFNA' 'IL21_TNF' 'IFNA_IL21' 'IL21_IL27' 'IL12_TNF'\n",
      " 'IL12_IL27' 'IL12_IL21']\n"
     ]
    }
   ],
   "source": [
    "# replace linker-1 and linker-2 with just linker\n",
    "adata.obs['ligand_call_oBC_CR'] = adata.obs['ligand_call_oBC_CR'].str.replace(\n",
    "    r'linker-(1|2)', 'linker', regex=True)\n",
    "print(adata.obs['ligand_call_oBC_CR'].unique())"
   ]
  },
  {
   "cell_type": "code",
   "execution_count": 5,
   "id": "92b4d7d6-8b93-4d28-b19c-7e73a1401d8e",
   "metadata": {},
   "outputs": [
    {
     "data": {
      "text/plain": [
       "ligand_call_oBC_CR\n",
       "TNF_linker       6643\n",
       "IL4_linker       6527\n",
       "IL2_linker       5895\n",
       "IL27_linker      5523\n",
       "IL6_linker       4026\n",
       "IFNA_linker      3986\n",
       "IL21_linker      3345\n",
       "linker_linker    3111\n",
       "IL4_TNF          2795\n",
       "IL2_TNF          2769\n",
       "IL27_TNF         2709\n",
       "IL2_IL4          2619\n",
       "IL12_linker      2617\n",
       "IL4_IL27         2157\n",
       "IL2_IL27         2149\n",
       "IFNA_TNF         2064\n",
       "IL6_TNF          1950\n",
       "IL2_IL6          1900\n",
       "IL2_IFNA         1834\n",
       "IL4_IFNA         1827\n",
       "IL4_IL6          1815\n",
       "IFNA_IL27        1747\n",
       "IL6_IL27         1711\n",
       "IL21_TNF         1481\n",
       "IL2_IL21         1443\n",
       "IL12_IL27        1424\n",
       "IL4_IL21         1413\n",
       "IL12_TNF         1359\n",
       "IFNA_IL21        1286\n",
       "IL4_IL12         1269\n",
       "IL6_IFNA         1175\n",
       "IL12_IFNA        1101\n",
       "IL21_IL27        1075\n",
       "IL6_IL21          947\n",
       "IL2_IL12          844\n",
       "IL12_IL21         818\n",
       "IL12_IL6          572\n",
       "Name: count, dtype: int64"
      ]
     },
     "execution_count": 5,
     "metadata": {},
     "output_type": "execute_result"
    }
   ],
   "source": [
    "# print number of cells per category\n",
    "adata.obs['ligand_call_oBC_CR'].value_counts()"
   ]
  },
  {
   "cell_type": "markdown",
   "id": "41cbb9ea-fb19-4e39-b32b-5368e7c9e467",
   "metadata": {},
   "source": [
    "# Export Raw Counts and Obs"
   ]
  },
  {
   "cell_type": "code",
   "execution_count": 5,
   "id": "ad83bd74-73b2-45fe-81e9-08d11169cc43",
   "metadata": {},
   "outputs": [],
   "source": [
    "def anndata_X_to_df(adata):\n",
    "    \"\"\"\n",
    "    Save the `.X` matrix of an AnnData object as a CSV file with cell barcodes and column names preserved.\n",
    "\n",
    "    Parameters:\n",
    "        adata: AnnData object\n",
    "            The AnnData object containing the matrix to be saved.\n",
    "        output_file: str\n",
    "            The path to save the CSV file.\n",
    "    \"\"\"\n",
    "    # Convert .X to a DataFrame\n",
    "    df = pd.DataFrame(\n",
    "        adata.X.toarray() if hasattr(adata.X, \"toarray\") else adata.X,  # Convert sparse matrix to dense if needed\n",
    "        index=adata.obs.index,  # Use cell barcodes as row indices\n",
    "        columns=adata.var.index  # Use feature names (e.g., gene names) as column names\n",
    "    )\n",
    "    \n",
    "    # Save DataFrame to a CSV file\n",
    "    return df"
   ]
  },
  {
   "cell_type": "code",
   "execution_count": 8,
   "id": "02eb55f8-5cd0-48d3-9dac-3a8d602c2524",
   "metadata": {},
   "outputs": [],
   "source": [
    "from scipy.sparse import csr_matrix\n",
    "counts = csr_matrix(adata.layers['counts'])"
   ]
  },
  {
   "cell_type": "code",
   "execution_count": 10,
   "id": "6b3928ab-7c37-4b60-b08b-0405e5ba69fa",
   "metadata": {},
   "outputs": [],
   "source": [
    "from scipy.io import mmwrite\n",
    "mmwrite(\"/data/rudensky/EYW/SIG07/scanpy_outs/SIG07_doublets_CR_RNA_counts.mtx\",counts)\n",
    "adata.obs.to_csv(\"/data/rudensky/EYW/SIG07/scanpy_outs/SIG07_doublets_CR_RNA_obs.csv\")"
   ]
  },
  {
   "cell_type": "code",
   "execution_count": 17,
   "id": "560cdc80-32ea-424f-a15c-7f90af190c9f",
   "metadata": {},
   "outputs": [],
   "source": [
    "genes = pd.DataFrame(index=adata.obs.index).to_csv(\"/data/rudensky/EYW/SIG07/scanpy_outs/SIG07_doublets_CR_RNA_obs_cells.csv\")\n",
    "cells = pd.DataFrame(index=adata.var.index).to_csv(\"/data/rudensky/EYW/SIG07/scanpy_outs/SIG07_doublets_CR_RNA_obs_genes.csv\")"
   ]
  },
  {
   "cell_type": "markdown",
   "id": "66b8c9b8-e90a-4ee8-9a96-01fbb0dc31df",
   "metadata": {},
   "source": [
    "# Create Downsampled Data"
   ]
  },
  {
   "cell_type": "markdown",
   "id": "b10a79e1-564b-41f1-ae5a-4f810ecd54e3",
   "metadata": {},
   "source": [
    "In this data we have a lot of cells per ligand condition. However, I want to check how the DEGs and emergent interactions will change with fewer cell numbers. Thus, let's create a downsampled dataset to do DEG analysis on."
   ]
  },
  {
   "cell_type": "code",
   "execution_count": 8,
   "id": "a9924108-b22c-4193-92e1-36c6ed27621d",
   "metadata": {},
   "outputs": [
    {
     "name": "stdout",
     "output_type": "stream",
     "text": [
      "Original AnnData: (87926, 10440)\n",
      "Downsampled AnnData: (18500, 10440)\n"
     ]
    }
   ],
   "source": [
    "# Define the maximum number of cells per category\n",
    "max_cells_per_category = 500\n",
    "\n",
    "# Group cells by 'ligand_call_oBC_CR' and randomly sample up to `max_cells_per_category` per group\n",
    "sampled_indices = (\n",
    "    adata.obs.groupby(['ligand_call_oBC_CR'], group_keys=False)\n",
    "    .apply(lambda x: x.sample(n=min(len(x), max_cells_per_category), random_state=42), include_groups=False)\n",
    "    .index\n",
    ")\n",
    "\n",
    "# Subset the AnnData object using the sampled indices\n",
    "downsampled_adata = adata[sampled_indices].copy()\n",
    "\n",
    "# Check the result\n",
    "print(f\"Original AnnData: {adata.shape}\")\n",
    "print(f\"Downsampled AnnData: {downsampled_adata.shape}\")"
   ]
  },
  {
   "cell_type": "code",
   "execution_count": 9,
   "id": "e21d0f56-8502-4bca-808c-22eeeb57ab0d",
   "metadata": {},
   "outputs": [
    {
     "data": {
      "text/plain": [
       "ligand_call_oBC_CR\n",
       "IFNA_IL21        500\n",
       "IFNA_IL27        500\n",
       "IFNA_TNF         500\n",
       "IFNA_linker      500\n",
       "IL12_IFNA        500\n",
       "IL12_IL21        500\n",
       "IL12_IL27        500\n",
       "IL12_IL6         500\n",
       "IL12_TNF         500\n",
       "IL12_linker      500\n",
       "IL21_IL27        500\n",
       "IL21_TNF         500\n",
       "IL21_linker      500\n",
       "IL27_TNF         500\n",
       "IL27_linker      500\n",
       "IL2_IFNA         500\n",
       "IL2_IL12         500\n",
       "IL2_IL21         500\n",
       "IL2_IL27         500\n",
       "IL2_IL4          500\n",
       "IL2_IL6          500\n",
       "IL2_TNF          500\n",
       "IL2_linker       500\n",
       "IL4_IFNA         500\n",
       "IL4_IL12         500\n",
       "IL4_IL21         500\n",
       "IL4_IL27         500\n",
       "IL4_IL6          500\n",
       "IL4_TNF          500\n",
       "IL4_linker       500\n",
       "IL6_IFNA         500\n",
       "IL6_IL21         500\n",
       "IL6_IL27         500\n",
       "IL6_TNF          500\n",
       "IL6_linker       500\n",
       "TNF_linker       500\n",
       "linker_linker    500\n",
       "Name: count, dtype: int64"
      ]
     },
     "execution_count": 9,
     "metadata": {},
     "output_type": "execute_result"
    }
   ],
   "source": [
    "downsampled_adata.obs['ligand_call_oBC_CR'].value_counts()"
   ]
  },
  {
   "cell_type": "code",
   "execution_count": 10,
   "id": "c8af00bc-1ae8-4885-aee2-009f348d4422",
   "metadata": {},
   "outputs": [],
   "source": [
    "from scipy.sparse import csr_matrix\n",
    "counts_ds = csr_matrix(downsampled_adata.layers['counts'])"
   ]
  },
  {
   "cell_type": "code",
   "execution_count": 16,
   "id": "02624aea-3f1a-41d0-aa3a-18eb841135ef",
   "metadata": {},
   "outputs": [],
   "source": [
    "from scipy.io import mmwrite\n",
    "mmwrite(\"/data/rudensky/EYW/SIG07/scanpy_outs/SIG07_doublets_CR_RNA_ds500_counts.mtx\",counts_ds)\n",
    "downsampled_adata.obs.to_csv(\"/data/rudensky/EYW/SIG07/scanpy_outs/SIG07_doublets_CR_RNA_ds500_obs.csv\")"
   ]
  },
  {
   "cell_type": "code",
   "execution_count": 17,
   "id": "fe6c6939-87c7-4129-8421-c816559ba8b4",
   "metadata": {},
   "outputs": [],
   "source": [
    "genes = pd.DataFrame(index=downsampled_adata.obs.index).to_csv(\"/data/rudensky/EYW/SIG07/scanpy_outs/SIG07_doublets_CR_RNA_ds500_obs_cells.csv\")\n",
    "cells = pd.DataFrame(index=downsampled_adata.var.index).to_csv(\"/data/rudensky/EYW/SIG07/scanpy_outs/SIG07_doublets_CR_RNA_ds500_obs_genes.csv\")"
   ]
  },
  {
   "cell_type": "code",
   "execution_count": 15,
   "id": "0afd6c68-2545-4926-945d-51360d133c86",
   "metadata": {},
   "outputs": [],
   "source": [
    "downsampled_adata.write(filename=\"/data/rudensky/EYW/SIG07/scanpy_outs/SIG07_doublets_CR_RNA_zscore_ds500.h5ad\")"
   ]
  },
  {
   "cell_type": "markdown",
   "id": "15578a2c-00b7-4409-b88b-68c1ebc43de2",
   "metadata": {},
   "source": [
    "# Psuedobulk by mean average\n",
    "Here, I will do pseudobulk by just averaging the log1p normalized counts between groups."
   ]
  },
  {
   "cell_type": "code",
   "execution_count": 8,
   "id": "64817f19-5b9b-4d1c-bddb-0fa9a1cd1c14",
   "metadata": {},
   "outputs": [],
   "source": [
    "def mean_aggr_adata(adata, aggregate_columns=['ligand_call_oBC_CR']):\n",
    "    \"\"\"\n",
    "    Aggregates an AnnData object by calculating mean expressions for groups defined by `aggregate_columns`.\n",
    "\n",
    "    Parameters:\n",
    "    -----------\n",
    "    adata : AnnData\n",
    "        Input AnnData object.\n",
    "    aggregate_columns : list\n",
    "        List of columns in `adata.obs` used to group and aggregate the data.\n",
    "\n",
    "    Returns:\n",
    "    --------\n",
    "    AnnData\n",
    "        A new AnnData object with aggregated (mean) expressions and updated `obs` and `var`.\n",
    "    \"\"\"\n",
    "    # Create a DataFrame from the AnnData object\n",
    "    df = pd.DataFrame(adata.X.toarray() if not isinstance(adata.X, np.ndarray) else adata.X,\n",
    "                      index=adata.obs.index, \n",
    "                      columns=adata.var_names)\n",
    "    \n",
    "    # Add aggregate columns to the DataFrame\n",
    "    for col in aggregate_columns:\n",
    "        df[col] = adata.obs[col]\n",
    "    \n",
    "    # Group by the specified columns and compute mean expression\n",
    "    mean_aggregated = df.groupby(aggregate_columns, observed=True).mean()\n",
    "    \n",
    "    # Extract the index of the grouped DataFrame (group identifiers)\n",
    "    new_obs = mean_aggregated.index.to_frame(index=False)  # Convert MultiIndex to DataFrame\n",
    "    \n",
    "    # Convert the mean values back to a matrix\n",
    "    new_X = mean_aggregated.values\n",
    "    \n",
    "    # Create a new AnnData object\n",
    "    aggregated_adata = ad.AnnData(\n",
    "        X=new_X,\n",
    "        obs=new_obs,\n",
    "        var=adata.var.copy()  # Retain the original gene information\n",
    "    )\n",
    "    \n",
    "    return aggregated_adata"
   ]
  },
  {
   "cell_type": "code",
   "execution_count": 10,
   "id": "5a44fac4-75f5-4912-b521-e7c7ca164b6d",
   "metadata": {},
   "outputs": [
    {
     "name": "stderr",
     "output_type": "stream",
     "text": [
      "/lila/home/wange7/miniforge3/envs/scanpy_standard/lib/python3.12/site-packages/anndata/_core/aligned_df.py:68: ImplicitModificationWarning: Transforming to str index.\n",
      "  warnings.warn(\"Transforming to str index.\", ImplicitModificationWarning)\n"
     ]
    }
   ],
   "source": [
    "adataPB = mean_aggr_adata(adata, aggregate_columns=['ligand_call_oBC_CR','group_call_CR'])"
   ]
  },
  {
   "cell_type": "code",
   "execution_count": 12,
   "id": "60db5f1b-45fb-46ad-b99f-e5a76df37dc5",
   "metadata": {},
   "outputs": [
    {
     "data": {
      "text/plain": [
       "AnnData object with n_obs × n_vars = 95 × 10440\n",
       "    obs: 'ligand_call_oBC_CR', 'group_call_CR'\n",
       "    var: 'gene_ids', 'feature_types', 'genome', 'pattern', 'read', 'sequence', 'target_gene_id', 'target_gene_name', 'mt', 'ribo', 'n_cells_by_counts', 'mean_counts', 'log1p_mean_counts', 'pct_dropout_by_counts', 'total_counts', 'log1p_total_counts', 'mean', 'std', 'highly_variable', 'means', 'dispersions', 'dispersions_norm'"
      ]
     },
     "execution_count": 12,
     "metadata": {},
     "output_type": "execute_result"
    }
   ],
   "source": [
    "adataPB"
   ]
  },
  {
   "cell_type": "code",
   "execution_count": 13,
   "id": "1d959e78-31c2-4185-8e8e-7df094e4f723",
   "metadata": {},
   "outputs": [],
   "source": [
    "adataPB.write(filename=\"/data/rudensky/EYW/SIG07/scanpy_outs/SIG07_doublets_CR_RNA_log1p_mean_pseudobulk.h5ad\")"
   ]
  }
 ],
 "metadata": {
  "kernelspec": {
   "display_name": "Python [conda env:scanpy_standard]",
   "language": "python",
   "name": "conda-env-scanpy_standard-py"
  },
  "language_info": {
   "codemirror_mode": {
    "name": "ipython",
    "version": 3
   },
   "file_extension": ".py",
   "mimetype": "text/x-python",
   "name": "python",
   "nbconvert_exporter": "python",
   "pygments_lexer": "ipython3",
   "version": "3.12.5"
  }
 },
 "nbformat": 4,
 "nbformat_minor": 5
}
