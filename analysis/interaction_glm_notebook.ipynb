{
 "cells": [
  {
   "cell_type": "code",
   "execution_count": 5,
   "id": "c2580678-cbb4-4ea6-9324-4b79a3c1058c",
   "metadata": {},
   "outputs": [],
   "source": [
    "library(tidyverse)\n",
    "library(Matrix)\n",
    "library(glmGamPoi)"
   ]
  },
  {
   "cell_type": "markdown",
   "id": "9decdc18-aac1-439d-b5e3-5aebc4d0f52c",
   "metadata": {},
   "source": [
    "# Import Data"
   ]
  },
  {
   "cell_type": "code",
   "execution_count": 10,
   "id": "b0d995c4-2505-41a6-9ee3-016b0a46bdf4",
   "metadata": {},
   "outputs": [],
   "source": [
    "counts <- readMM(\"/data/rudensky/EYW/SIG07/scanpy_outs/SIG07_doublets_CR_RNA_counts.mtx\")"
   ]
  },
  {
   "cell_type": "code",
   "execution_count": 11,
   "id": "d3a37291-0575-4fb2-a567-20e03995e4bd",
   "metadata": {},
   "outputs": [
    {
     "name": "stderr",
     "output_type": "stream",
     "text": [
      "\u001b[1m\u001b[22mNew names:\n",
      "\u001b[36m•\u001b[39m `` -> `...1`\n",
      "\u001b[1mRows: \u001b[22m\u001b[34m10440\u001b[39m \u001b[1mColumns: \u001b[22m\u001b[34m1\u001b[39m\n",
      "\u001b[36m──\u001b[39m \u001b[1mColumn specification\u001b[22m \u001b[36m────────────────────────────────────────────────────────\u001b[39m\n",
      "\u001b[1mDelimiter:\u001b[22m \",\"\n",
      "\u001b[31mchr\u001b[39m (1): ...1\n",
      "\n",
      "\u001b[36mℹ\u001b[39m Use `spec()` to retrieve the full column specification for this data.\n",
      "\u001b[36mℹ\u001b[39m Specify the column types or set `show_col_types = FALSE` to quiet this message.\n",
      "\u001b[1mRows: \u001b[22m\u001b[34m87926\u001b[39m \u001b[1mColumns: \u001b[22m\u001b[34m1\u001b[39m\n",
      "\u001b[36m──\u001b[39m \u001b[1mColumn specification\u001b[22m \u001b[36m────────────────────────────────────────────────────────\u001b[39m\n",
      "\u001b[1mDelimiter:\u001b[22m \",\"\n",
      "\u001b[31mchr\u001b[39m (1): cell_barcode\n",
      "\n",
      "\u001b[36mℹ\u001b[39m Use `spec()` to retrieve the full column specification for this data.\n",
      "\u001b[36mℹ\u001b[39m Specify the column types or set `show_col_types = FALSE` to quiet this message.\n",
      "\u001b[1mRows: \u001b[22m\u001b[34m87926\u001b[39m \u001b[1mColumns: \u001b[22m\u001b[34m27\u001b[39m\n",
      "\u001b[36m──\u001b[39m \u001b[1mColumn specification\u001b[22m \u001b[36m────────────────────────────────────────────────────────\u001b[39m\n",
      "\u001b[1mDelimiter:\u001b[22m \",\"\n",
      "\u001b[31mchr\u001b[39m  (6): cell_barcode, num_umis_oBC_CR, ligand_call_oBC_CR, group_call_CR, ...\n",
      "\u001b[32mdbl\u001b[39m (21): num_ligand_oBC_CR, num_unique_groups_CR, n_genes_by_counts, log1p_...\n",
      "\n",
      "\u001b[36mℹ\u001b[39m Use `spec()` to retrieve the full column specification for this data.\n",
      "\u001b[36mℹ\u001b[39m Specify the column types or set `show_col_types = FALSE` to quiet this message.\n",
      "\u001b[1m\u001b[22mNew names:\n",
      "\u001b[36m•\u001b[39m `` -> `...1`\n",
      "\u001b[1mRows: \u001b[22m\u001b[34m152700\u001b[39m \u001b[1mColumns: \u001b[22m\u001b[34m8\u001b[39m\n",
      "\u001b[36m──\u001b[39m \u001b[1mColumn specification\u001b[22m \u001b[36m────────────────────────────────────────────────────────\u001b[39m\n",
      "\u001b[1mDelimiter:\u001b[22m \",\"\n",
      "\u001b[31mchr\u001b[39m (2): group, names\n",
      "\u001b[32mdbl\u001b[39m (6): ...1, scores, logfoldchanges, pvals, pvals_adj, pct_nz_group\n",
      "\n",
      "\u001b[36mℹ\u001b[39m Use `spec()` to retrieve the full column specification for this data.\n",
      "\u001b[36mℹ\u001b[39m Specify the column types or set `show_col_types = FALSE` to quiet this message.\n"
     ]
    }
   ],
   "source": [
    "genes <- read_csv(\"/data/rudensky/EYW/SIG07/scanpy_outs/SIG07_doublets_CR_RNA_obs_genes.csv\")\n",
    "cells <- read_csv(\"/data/rudensky/EYW/SIG07/scanpy_outs/SIG07_doublets_CR_RNA_obs_cells.csv\")\n",
    "obs <- read_csv(\"/data/rudensky/EYW/SIG07/scanpy_outs/SIG07_doublets_CR_RNA_obs.csv\")\n",
    "degSig <- read_csv(\"/data/rudensky/EYW/git_projects/SIG07/analysis_outs/deg_sig_wilcoxon.csv\")[,-1]"
   ]
  },
  {
   "cell_type": "code",
   "execution_count": 12,
   "id": "a9278edf-8221-4426-8b3c-56dca888ce5f",
   "metadata": {},
   "outputs": [
    {
     "name": "stderr",
     "output_type": "stream",
     "text": [
      "Warning message:\n",
      "“Unknown or uninitialised column: `namse`.”\n"
     ]
    }
   ],
   "source": [
    "# add gene and cell names to counts\n",
    "colnames(counts) <- genes$`...1`\n",
    "rownames(counts) <- cells$cell_barcode\n",
    "\n",
    "# transpose counts and pre-filter counts\n",
    "counts <- t(counts)\n",
    "counts <- counts[rownames(counts) %in% degSig$names,]"
   ]
  },
  {
   "cell_type": "markdown",
   "id": "9ebce123-a2b7-47f1-b10a-d780742bb3f9",
   "metadata": {},
   "source": [
    "# GLM Gamma-Poisson"
   ]
  },
  {
   "cell_type": "markdown",
   "id": "5fc7b8ea-c108-4d48-9e2f-b6180196615e",
   "metadata": {},
   "source": [
    "For speed purposes, I will use the glmGamPoi package from bioconductor. This is **much** faster than using glm.nb from the MASS package."
   ]
  },
  {
   "cell_type": "markdown",
   "id": "89ffd73f-02e5-4d77-a06f-745c3aa96ada",
   "metadata": {},
   "source": [
    "## Getting code to work"
   ]
  },
  {
   "cell_type": "code",
   "execution_count": 173,
   "id": "2c45e531-9c06-4707-8592-ba35e92eb2dd",
   "metadata": {},
   "outputs": [],
   "source": [
    "# set ligands for analysis\n",
    "ligands <- c(\"IL4\",\"IL27\")\n",
    "# get names of groups to pull\n",
    "groupPull <- c(paste0(ligands[1],\"_linker\"),\n",
    "               paste0(ligands[2],\"_linker\"),\n",
    "               paste0(ligands[1],\"_\",ligands[2]),\n",
    "               paste0(ligands[2],\"_\",ligands[1]),\n",
    "               \"linker_linker\")\n",
    "# subset obs\n",
    "obsSub <- obs %>% filter(ligand_call_oBC_CR %in% groupPull)"
   ]
  },
  {
   "cell_type": "code",
   "execution_count": 174,
   "id": "f964f06a-a3cd-436e-ac91-08fa8b9e39e7",
   "metadata": {},
   "outputs": [],
   "source": [
    "# filter counts for DEGs\n",
    "relevantDeg = degSig %>% filter(group %in% groupPull)\n",
    "\n",
    "# subset counts and transpose to make compatible with GLM\n",
    "countsSub <- counts[relevantDeg$names[1:5],obsSub$cell_barcode] %>% as.matrix()\n",
    "\n",
    "# add pseudocount to count data and subset\n",
    "pseudocount <- 0.01\n",
    "countsSub <- countsSub + pseudocount"
   ]
  },
  {
   "cell_type": "code",
   "execution_count": 175,
   "id": "8c504d3f-38fb-4358-a216-8d1638d41e76",
   "metadata": {},
   "outputs": [],
   "source": [
    "# define ligand\n",
    "ligand1 <- obsSub$ligand_call_oBC_CR %in% c(groupPull[c(1,3,4)])\n",
    "ligand2 <- obsSub$ligand_call_oBC_CR %in% c(groupPull[c(2,3,4)])\n",
    "group <- obsSub$group_call_CR %>% as.factor()\n",
    "percent.mito <- obsSub$pct_counts_mt %>% as.numeric()\n",
    "s.score <- obsSub$S_score %>% as.numeric()\n",
    "g2m.score <- obsSub$G2M_score %>% as.numeric()\n",
    "scaling.factor <- obsSub$total_counts %>% as.numeric()\n",
    "\n",
    "# fit negative binomial GLM\n",
    "model.df <- cbind(\n",
    "  ligand1,\n",
    "  ligand2,\n",
    "  group,\n",
    "  percent.mito,\n",
    "  s.score,\n",
    "  g2m.score,\n",
    "  scaling.factor\n",
    "  ) %>% as.data.frame()\n",
    "\n",
    "model.formula <- as.formula(paste0(\n",
    "        '~ ligand1*ligand2 +',\n",
    "        'group + ',\n",
    "        'percent.mito + ',\n",
    "        's.score + ',\n",
    "        'g2m.score'\n",
    "    ))\n",
    "\n",
    "fit <- glm_gp(countsSub,\n",
    "              design = model.formula,\n",
    "              col_data = model.df,\n",
    "              offset = log(model.df$scaling.factor),\n",
    "              size_factors = FALSE,\n",
    "              on_disk = FALSE)"
   ]
  },
  {
   "cell_type": "markdown",
   "id": "fdd59d4b-a461-41bf-b8e7-363d1b016379",
   "metadata": {},
   "source": [
    "The glm_gp function will automatically calculate size_factors, but since I am only using a subset of genes as input, I decided to not use the functions size factor calculations and instead provide an offset of the log transformed total counts (calculated during initial adata creation). This functionally will serve the same purpose although it's not the most advanced way of calculating size factors?"
   ]
  },
  {
   "cell_type": "code",
   "execution_count": 176,
   "id": "dff27afe-422c-4f23-bdd9-7bae8b78ce06",
   "metadata": {},
   "outputs": [],
   "source": [
    "res_QLRT1 <- test_de(fit, contrast = `ligand1:ligand2`)"
   ]
  },
  {
   "cell_type": "markdown",
   "id": "f55c1a99-f900-4b8b-bf09-71c4843ddd05",
   "metadata": {},
   "source": [
    "The DE test built into glmGamPoi is a quasi-likelihood ratio test. Essentially what it does is compare a full model to a reduced model where the covariates provided in the contrast are removed. By using the interaction term in the contrast, the LFC derived from this test will tell us the effect of the interaction on individual genes. The p-values are quite inflated due to these calculations being done at the single-cell level."
   ]
  },
  {
   "cell_type": "code",
   "execution_count": 179,
   "id": "a680bd04-ba95-42c1-bd68-47dddbbef505",
   "metadata": {},
   "outputs": [
    {
     "data": {
      "text/html": [
       "<table class=\"dataframe\">\n",
       "<caption>A data.frame: 5 × 7</caption>\n",
       "<thead>\n",
       "\t<tr><th></th><th scope=col>name</th><th scope=col>pval</th><th scope=col>adj_pval</th><th scope=col>f_statistic</th><th scope=col>df1</th><th scope=col>df2</th><th scope=col>lfc</th></tr>\n",
       "\t<tr><th></th><th scope=col>&lt;chr&gt;</th><th scope=col>&lt;dbl&gt;</th><th scope=col>&lt;dbl&gt;</th><th scope=col>&lt;dbl&gt;</th><th scope=col>&lt;int&gt;</th><th scope=col>&lt;dbl&gt;</th><th scope=col>&lt;dbl&gt;</th></tr>\n",
       "</thead>\n",
       "<tbody>\n",
       "\t<tr><th scope=row>1</th><td>Cish </td><td>9.223672e-20</td><td>2.305918e-19</td><td> 82.969161</td><td>1</td><td>17326.18</td><td>-0.6299143</td></tr>\n",
       "\t<tr><th scope=row>2</th><td>Socs1</td><td>2.295055e-84</td><td>1.147528e-83</td><td>382.960859</td><td>1</td><td>17326.18</td><td>-1.3970299</td></tr>\n",
       "\t<tr><th scope=row>3</th><td>Gbp2 </td><td>4.885415e-02</td><td>4.885415e-02</td><td>  3.880904</td><td>1</td><td>17326.18</td><td> 0.1089467</td></tr>\n",
       "\t<tr><th scope=row>4</th><td>Il4ra</td><td>2.665847e-03</td><td>3.332309e-03</td><td>  9.025739</td><td>1</td><td>17326.18</td><td> 0.1450893</td></tr>\n",
       "\t<tr><th scope=row>5</th><td>Ncoa3</td><td>2.786536e-05</td><td>4.644227e-05</td><td> 17.567559</td><td>1</td><td>17326.18</td><td>-0.1406866</td></tr>\n",
       "</tbody>\n",
       "</table>\n"
      ],
      "text/latex": [
       "A data.frame: 5 × 7\n",
       "\\begin{tabular}{r|lllllll}\n",
       "  & name & pval & adj\\_pval & f\\_statistic & df1 & df2 & lfc\\\\\n",
       "  & <chr> & <dbl> & <dbl> & <dbl> & <int> & <dbl> & <dbl>\\\\\n",
       "\\hline\n",
       "\t1 & Cish  & 9.223672e-20 & 2.305918e-19 &  82.969161 & 1 & 17326.18 & -0.6299143\\\\\n",
       "\t2 & Socs1 & 2.295055e-84 & 1.147528e-83 & 382.960859 & 1 & 17326.18 & -1.3970299\\\\\n",
       "\t3 & Gbp2  & 4.885415e-02 & 4.885415e-02 &   3.880904 & 1 & 17326.18 &  0.1089467\\\\\n",
       "\t4 & Il4ra & 2.665847e-03 & 3.332309e-03 &   9.025739 & 1 & 17326.18 &  0.1450893\\\\\n",
       "\t5 & Ncoa3 & 2.786536e-05 & 4.644227e-05 &  17.567559 & 1 & 17326.18 & -0.1406866\\\\\n",
       "\\end{tabular}\n"
      ],
      "text/markdown": [
       "\n",
       "A data.frame: 5 × 7\n",
       "\n",
       "| <!--/--> | name &lt;chr&gt; | pval &lt;dbl&gt; | adj_pval &lt;dbl&gt; | f_statistic &lt;dbl&gt; | df1 &lt;int&gt; | df2 &lt;dbl&gt; | lfc &lt;dbl&gt; |\n",
       "|---|---|---|---|---|---|---|---|\n",
       "| 1 | Cish  | 9.223672e-20 | 2.305918e-19 |  82.969161 | 1 | 17326.18 | -0.6299143 |\n",
       "| 2 | Socs1 | 2.295055e-84 | 1.147528e-83 | 382.960859 | 1 | 17326.18 | -1.3970299 |\n",
       "| 3 | Gbp2  | 4.885415e-02 | 4.885415e-02 |   3.880904 | 1 | 17326.18 |  0.1089467 |\n",
       "| 4 | Il4ra | 2.665847e-03 | 3.332309e-03 |   9.025739 | 1 | 17326.18 |  0.1450893 |\n",
       "| 5 | Ncoa3 | 2.786536e-05 | 4.644227e-05 |  17.567559 | 1 | 17326.18 | -0.1406866 |\n",
       "\n"
      ],
      "text/plain": [
       "  name  pval         adj_pval     f_statistic df1 df2      lfc       \n",
       "1 Cish  9.223672e-20 2.305918e-19  82.969161  1   17326.18 -0.6299143\n",
       "2 Socs1 2.295055e-84 1.147528e-83 382.960859  1   17326.18 -1.3970299\n",
       "3 Gbp2  4.885415e-02 4.885415e-02   3.880904  1   17326.18  0.1089467\n",
       "4 Il4ra 2.665847e-03 3.332309e-03   9.025739  1   17326.18  0.1450893\n",
       "5 Ncoa3 2.786536e-05 4.644227e-05  17.567559  1   17326.18 -0.1406866"
      ]
     },
     "metadata": {},
     "output_type": "display_data"
    }
   ],
   "source": [
    "res_QLRT1"
   ]
  },
  {
   "cell_type": "markdown",
   "id": "e1879304-d486-4b52-b311-12c07b74cd3d",
   "metadata": {},
   "source": [
    "## Functions for GP GLM\n",
    "Here, I will make some functions to help with iterating on this modeling."
   ]
  },
  {
   "cell_type": "code",
   "execution_count": 164,
   "id": "047cc6d3-4f08-49c4-a872-addc16bf2b45",
   "metadata": {},
   "outputs": [],
   "source": [
    "get_gene_list <- function(ligands, deg_data, p_val_cutoff = 0.1) {\n",
    "    # Function Purpose:\n",
    "    # This function identifies a unique list of significant genes associated with specified ligand combinations\n",
    "    # from differential expression data based on an adjusted p-value cutoff.\n",
    "    # This function identifies DEGs that are present in any of the ligands or interaction (union).\n",
    "\n",
    "    # Arguments:\n",
    "    # - ligands: A character vector of two ligand names to define the groups of interest.\n",
    "    # - deg_data: A data frame containing differential expression results, expected to have\n",
    "    #             columns 'group', 'pvals_adj', and 'names'.\n",
    "    # - p_val_cutoff: A numeric value (default = 0.1) specifying the adjusted p-value cutoff for significance.\n",
    "\n",
    "    # Return:\n",
    "    # - A character vector of unique gene names meeting the criteria.\n",
    "\n",
    "    # Create a vector of group names based on the input ligands in a specific order.\n",
    "    groupPull <- c(\n",
    "        paste0(ligands[1], \"_linker\"),         # Group 1: First ligand + \"_linker\"\n",
    "        paste0(ligands[2], \"_linker\"),         # Group 2: Second ligand + \"_linker\"\n",
    "        paste0(ligands[1], \"_\", ligands[2]),   # Group 3: First ligand + \"_\" + Second ligand\n",
    "        paste0(ligands[2], \"_\", ligands[1]),   # Group 4: Second ligand + \"_\" + First ligand\n",
    "        \"linker_linker\"                        # Group 5: Default \"linker_linker\" group\n",
    "    )\n",
    "\n",
    "    # Filter for relevant groups and pull out significant genes.\n",
    "    relevantDeg = deg_data %>% \n",
    "                    filter(group %in% groupPull) %>% \n",
    "                    filter(pvals_adj < p_val_cutoff)  \n",
    "\n",
    "    # Extract the unique names of genes from the filtered data.\n",
    "    genes = relevantDeg$names %>% unique()\n",
    "\n",
    "    # Return the list of significant genes.\n",
    "    return(genes)\n",
    "}"
   ]
  },
  {
   "cell_type": "code",
   "execution_count": 15,
   "id": "0348123d-d083-44ee-9146-2f2ecd6bddcc",
   "metadata": {},
   "outputs": [],
   "source": [
    "glm_interaction_fit <- function(ligands, genes, counts, obs, pseudocount = 0.01) {\n",
    "    # Function Purpose:\n",
    "    # This function fits a generalized linear model (GLM) with an interaction term for two ligands.\n",
    "    # It incorporates covariates like mitochondrial content, cell cycle scores, and scaling factors.\n",
    "    # The model is fit using the `glmGamPoi` package.\n",
    "\n",
    "    # Arguments:\n",
    "    # - ligands: A character vector of two ligand names (e.g., c(\"ligandA\", \"ligandB\")).\n",
    "    # - genes: A character vector of gene names to subset from the count matrix.\n",
    "    # - counts: A matrix of gene expression counts (rows: genes, columns: cells).\n",
    "    # - obs: A data frame with metadata for cells (e.g., ligand calls, cell cycle scores).\n",
    "    # - pseudocount: A small positive value added to the counts to avoid log-transform issues (default = 0.01).\n",
    "\n",
    "    # Return:\n",
    "    # - A fitted GLM object from `glmGamPoi`.\n",
    "\n",
    "    # Get names of groups to pull.\n",
    "    # The order of groupPull is important for downstream steps.\n",
    "    groupPull <- c(\n",
    "        paste0(ligands[1], \"_linker\"),         # Group 1: ligand 1 + \"_linker\"\n",
    "        paste0(ligands[2], \"_linker\"),         # Group 2: ligand 2 + \"_linker\"\n",
    "        paste0(ligands[1], \"_\", ligands[2]),   # Group 3: ligand 1 + \"_\" + ligand 2\n",
    "        paste0(ligands[2], \"_\", ligands[1]),   # Group 4: ligand 2 + \"_\" + ligand 1\n",
    "        \"linker_linker\"                        # Group 5: default \"linker_linker\"\n",
    "    )\n",
    "\n",
    "    # Subset the obs data frame to include only relevant groups.\n",
    "    obsSub <- obs %>% filter(ligand_call_oBC_CR %in% groupPull)\n",
    "\n",
    "    # Subset the counts matrix to include only the selected genes and cells from obsSub.\n",
    "    # The transposition (`as.matrix`) is necessary for compatibility with `glmGamPoi`.\n",
    "    countsSub <- counts[genes, obsSub$cell_barcode] %>% as.matrix()\n",
    "\n",
    "    # Add a small pseudocount to the count data to prevent issues coefficient hyperinflation.\n",
    "    # when interaction term has 0 counts.\n",
    "    countsSub <- countsSub + pseudocount\n",
    "\n",
    "    # Define binary indicators for the ligands:\n",
    "    # - ligand1 is TRUE for cells exposed to ligand 1 (including double ligand groups).\n",
    "    # - ligand2 is TRUE for cells exposed to ligand 2 (including double ligand groups).\n",
    "    ligand1 <- obsSub$ligand_call_oBC_CR %in% c(groupPull[c(1, 3, 4)])\n",
    "    ligand2 <- obsSub$ligand_call_oBC_CR %in% c(groupPull[c(2, 3, 4)])\n",
    "\n",
    "    # Extract additional covariates for the model.\n",
    "    group <- obsSub$group_call_CR %>% as.factor()        # Categorical group assignments.\n",
    "    percent.mito <- obsSub$pct_counts_mt %>% as.numeric()  # Percentage of mitochondrial counts.\n",
    "    s.score <- obsSub$S_score %>% as.numeric()          # Cell cycle S-phase score.\n",
    "    g2m.score <- obsSub$G2M_score %>% as.numeric()      # Cell cycle G2M-phase score.\n",
    "    scaling.factor <- obsSub$total_counts %>% as.numeric()  # Scaling factor for library size.\n",
    "\n",
    "    # Combine covariates into a data frame for the model.\n",
    "    model.df <- cbind(\n",
    "        ligand1,\n",
    "        ligand2,\n",
    "        group,\n",
    "        percent.mito,\n",
    "        s.score,\n",
    "        g2m.score,\n",
    "        scaling.factor\n",
    "    ) %>% as.data.frame()\n",
    "\n",
    "    # Define the formula for the GLM.\n",
    "    # The interaction term `ligand1*ligand2` allows for detecting combinatorial effects.\n",
    "    model.formula <- as.formula(paste0(\n",
    "        '~ ligand1*ligand2 +',  # Interaction between ligands 1 and 2.\n",
    "        'group + ',             # Group-specific effects.\n",
    "        'percent.mito + ',      # Mitochondrial content.\n",
    "        's.score + ',           # S-phase cell cycle score.\n",
    "        'g2m.score'             # G2M-phase cell cycle score.\n",
    "    ))\n",
    "\n",
    "    # Fit the generalized linear model with glmGamPoi.\n",
    "    fit <- glm_gp(\n",
    "        countsSub,                # Subsetted count matrix.\n",
    "        design = model.formula,   # Model formula specifying covariates and interactions.\n",
    "        col_data = model.df,      # Data frame containing model covariates.\n",
    "        offset = log(model.df$scaling.factor),  # Offset term (log of scaling factor).\n",
    "        size_factors = FALSE,     # Use explicit scaling factors instead of size factor normalization.\n",
    "        on_disk = FALSE           # Fit the model in memory.\n",
    "    )\n",
    "\n",
    "    # Return the fitted model.\n",
    "    return(fit)\n",
    "}"
   ]
  },
  {
   "cell_type": "code",
   "execution_count": 171,
   "id": "32c0099c-a104-4bcd-bece-85a8f7f97c10",
   "metadata": {},
   "outputs": [],
   "source": [
    "run_glm_test <- function(ligands, counts, obs, deg_data) {\n",
    "    # Function Purpose:\n",
    "    # This function performs differential expression (DE) testing for genes that show an interaction \n",
    "    # between two specified ligands using a generalized linear model (GLM).\n",
    "\n",
    "    # Arguments:\n",
    "    # - ligands: A character vector of two ligand names (e.g., c(\"ligandA\", \"ligandB\")).\n",
    "    # - counts: A matrix of gene expression counts (rows: genes, columns: cells).\n",
    "    # - obs: A data frame with metadata for cells (e.g., ligand calls, cell cycle scores).\n",
    "    # - deg_data: A data frame with differential expression results, used to filter genes to test.\n",
    "\n",
    "    # Return:\n",
    "    # - A tibble with DE results, including interaction terms for the ligands.\n",
    "\n",
    "    # Step 1: Get genes to test\n",
    "    IRdisplay::display(\"Step 1: Extracting genes to test based on ligands.\")\n",
    "    genes <- get_gene_list(ligands, deg_data)\n",
    "    IRdisplay::display(paste(\"Number of genes to test:\", length(genes)))\n",
    "\n",
    "    # Step 2: Fit the interaction model\n",
    "    IRdisplay::display(\"Step 2: Fitting the interaction model using glm_interaction_fit.\")\n",
    "    fit <- glm_interaction_fit(\n",
    "        ligands = ligands,\n",
    "        genes = genes,\n",
    "        counts = counts,\n",
    "        obs = obs\n",
    "    )\n",
    "    IRdisplay::display(\"Model fitting complete.\")\n",
    "\n",
    "    # Step 3: Perform DE testing\n",
    "    IRdisplay::display(\"Step 3: Performing differential expression testing for the interaction term.\")\n",
    "    res <- test_de(fit, contrast = \"ligand1:ligand2\") %>%  # Test interaction term\n",
    "        as_tibble() %>%                                   # Convert to tibble\n",
    "        mutate(interaction = paste0(ligands[1], \"_\", ligands[2]))  # Annotate with interaction name\n",
    "    IRdisplay::display(\"DE testing complete.\")\n",
    "\n",
    "    # Step 4: Return results\n",
    "    IRdisplay::display(\"Returning DE results.\")\n",
    "    return(res)\n",
    "}"
   ]
  },
  {
   "cell_type": "markdown",
   "id": "b30bd1a6-ece4-4a74-baa6-0e66d967020a",
   "metadata": {},
   "source": [
    "## Running GP GLM"
   ]
  },
  {
   "cell_type": "code",
   "execution_count": 192,
   "id": "1c970390-c90e-459f-aa3b-eadfd2356517",
   "metadata": {},
   "outputs": [
    {
     "data": {
      "text/html": [
       "<style>\n",
       ".list-inline {list-style: none; margin:0; padding: 0}\n",
       ".list-inline>li {display: inline-block}\n",
       ".list-inline>li:not(:last-child)::after {content: \"\\00b7\"; padding: 0 .5ex}\n",
       "</style>\n",
       "<ol class=list-inline><li>'IL4'</li><li>'IL12'</li><li>'IFNA'</li><li>'IL6'</li><li>'IL2'</li><li>'TNF'</li><li>'IL21'</li><li>'IL27'</li></ol>\n"
      ],
      "text/latex": [
       "\\begin{enumerate*}\n",
       "\\item 'IL4'\n",
       "\\item 'IL12'\n",
       "\\item 'IFNA'\n",
       "\\item 'IL6'\n",
       "\\item 'IL2'\n",
       "\\item 'TNF'\n",
       "\\item 'IL21'\n",
       "\\item 'IL27'\n",
       "\\end{enumerate*}\n"
      ],
      "text/markdown": [
       "1. 'IL4'\n",
       "2. 'IL12'\n",
       "3. 'IFNA'\n",
       "4. 'IL6'\n",
       "5. 'IL2'\n",
       "6. 'TNF'\n",
       "7. 'IL21'\n",
       "8. 'IL27'\n",
       "\n",
       "\n"
      ],
      "text/plain": [
       "[1] \"IL4\"  \"IL12\" \"IFNA\" \"IL6\"  \"IL2\"  \"TNF\"  \"IL21\" \"IL27\""
      ]
     },
     "metadata": {},
     "output_type": "display_data"
    }
   ],
   "source": [
    "# get unique ligands \n",
    "calls <- obs$ligand_call_oBC_CR %>%\n",
    "    unique() %>%\n",
    "    str_split(\"_\") %>% \n",
    "    unlist() %>%\n",
    "    unique()\n",
    "calls <- calls[calls != 'linker']\n",
    "calls"
   ]
  },
  {
   "cell_type": "code",
   "execution_count": 193,
   "id": "c0409aa4-c227-4d72-bab8-33c4f6c021d2",
   "metadata": {},
   "outputs": [],
   "source": [
    "# Generate non-repeating pairwise combinations\n",
    "pairwise_combinations <- combn(calls, 2, simplify = FALSE)"
   ]
  },
  {
   "cell_type": "code",
   "execution_count": 197,
   "id": "65764a77-3cb6-4567-a365-faa1ca61414e",
   "metadata": {},
   "outputs": [],
   "source": [
    "# load parallelization libraries\n",
    "library(furrr)\n",
    "plan(multicore)\n",
    "options(future.globals.maxSize = 8 * 1024^3)  # 8 GB"
   ]
  },
  {
   "cell_type": "code",
   "execution_count": null,
   "id": "81344b89-35bb-4197-a38a-95cf5c172c67",
   "metadata": {},
   "outputs": [],
   "source": [
    "# Run the function in parallel and combine results\n",
    "results <- future_map_dfr(\n",
    "  pairwise_combinations, \n",
    "  ~ run_glm_test(ligands = .x, counts = counts, obs = obs, deg_data = degSig),\n",
    "  .progress = TRUE\n",
    ")"
   ]
  },
  {
   "cell_type": "code",
   "execution_count": null,
   "id": "a9a2df62-5ded-4a39-bb3d-8a4a01e284bb",
   "metadata": {},
   "outputs": [],
   "source": [
    "write_csv(results,\"/data/rudensky/EYW/git_projects/SIG07/analysis_outs/glmGamPoi_interaction_deg.csv\")"
   ]
  },
  {
   "cell_type": "code",
   "execution_count": null,
   "id": "0e5a021f-ea1f-4d78-833f-8e49bc1b6f5e",
   "metadata": {},
   "outputs": [],
   "source": []
  }
 ],
 "metadata": {
  "kernelspec": {
   "display_name": "R [conda env:R-deseq2]",
   "language": "R",
   "name": "conda-env-R-deseq2-r"
  },
  "language_info": {
   "codemirror_mode": "r",
   "file_extension": ".r",
   "mimetype": "text/x-r-source",
   "name": "R",
   "pygments_lexer": "r",
   "version": "4.3.3"
  }
 },
 "nbformat": 4,
 "nbformat_minor": 5
}
