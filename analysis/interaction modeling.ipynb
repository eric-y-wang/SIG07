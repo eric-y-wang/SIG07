{
 "cells": [
  {
   "cell_type": "code",
   "execution_count": 71,
   "id": "731c192f-92a6-4870-9ac2-3d9ae77748f7",
   "metadata": {},
   "outputs": [],
   "source": [
    "import numpy as np\n",
    "import scanpy as sc\n",
    "import anndata as ad\n",
    "import pandas as pd\n",
    "import seaborn as sns\n",
    "import matplotlib as mpl\n",
    "import matplotlib.pyplot as plt\n",
    "import warnings\n",
    "plt.rcParams['figure.dpi'] = 100\n",
    "plt.rcParams['savefig.dpi'] = 300"
   ]
  },
  {
   "cell_type": "markdown",
   "id": "758a02a2-12c2-413c-9b6b-9b63c8b83441",
   "metadata": {},
   "source": [
    "# Import Data"
   ]
  },
  {
   "cell_type": "code",
   "execution_count": 72,
   "id": "600d5413-d26d-4635-ae34-0e68621926fa",
   "metadata": {},
   "outputs": [],
   "source": [
    "adata = ad.read_h5ad('/data/rudensky/EYW/SIG07/scanpy_outs/SIG07_doublets_CR_RNA_zscore.h5ad')\n",
    "adata.X = adata.layers['counts'].copy()"
   ]
  },
  {
   "cell_type": "code",
   "execution_count": 73,
   "id": "d713b89f-b2e3-4038-bbae-2aecb918f893",
   "metadata": {},
   "outputs": [
    {
     "name": "stdout",
     "output_type": "stream",
     "text": [
      "['IL4_linker' 'IL4_IL12' 'IL12_IFNA' 'IL4_IFNA' 'IL12_linker' 'IL12_IL6'\n",
      " 'IL2_TNF' 'IL21_linker' 'IFNA_linker' 'IL2_linker' 'IL2_IL6' 'IL4_IL6'\n",
      " 'TNF_linker' 'IL2_IL12' 'IL2_IL4' 'IFNA_TNF' 'IL6_linker' 'IL4_IL21'\n",
      " 'IL4_IL27' 'linker_linker' 'IL27_linker' 'IL27_TNF' 'IFNA_IL27'\n",
      " 'IL6_IL21' 'IL2_IL27' 'IL4_TNF' 'IL6_TNF' 'IL2_IL21' 'IL6_IFNA'\n",
      " 'IL6_IL27' 'IL2_IFNA' 'IL21_TNF' 'IFNA_IL21' 'IL21_IL27' 'IL12_TNF'\n",
      " 'IL12_IL27' 'IL12_IL21']\n"
     ]
    }
   ],
   "source": [
    "# replace linker-1 and linker-2 with just linker\n",
    "adata.obs['ligand_call_oBC_CR'] = adata.obs['ligand_call_oBC_CR'].str.replace(\n",
    "    r'linker-(1|2)', 'linker', regex=True)\n",
    "print(adata.obs['ligand_call_oBC_CR'].unique())"
   ]
  },
  {
   "cell_type": "code",
   "execution_count": 24,
   "id": "7648f274-67e9-40bc-b8a2-8e20db848717",
   "metadata": {},
   "outputs": [],
   "source": [
    "def subset_anndata_by_groups(adata, group_a, group_b, group_column=\"group\"):\n",
    "    \"\"\"\n",
    "    Subset an AnnData object to only include cells belonging to specified groups\n",
    "    (group_a, group_b, and their interaction group_c). Adds categorical columns\n",
    "    to .obs indicating membership in each group.\n",
    "\n",
    "    Parameters:\n",
    "        adata: AnnData object\n",
    "            The input AnnData object.\n",
    "        group_a: str\n",
    "            The name of the first group to filter.\n",
    "        group_b: str\n",
    "            The name of the second group to filter.\n",
    "        group_column: str\n",
    "            The name of the column in .obs containing group information (default: \"group\").\n",
    "    \n",
    "    Returns:\n",
    "        AnnData: A subsetted AnnData object containing cells belonging to group_a, group_b, and group_c.\n",
    "    \"\"\"\n",
    "    # Derive group C\n",
    "    ligands = sorted([group_a, group_b])\n",
    "    possible_group_c = [f\"{ligands[0]}_{ligands[1]}\", f\"{ligands[1]}_{ligands[0]}\"]\n",
    "    \n",
    "    # Check which of the possible group C values exists in the dataset\n",
    "    group_c = next((group for group in possible_group_c if group in adata.obs[group_column].unique()), None)\n",
    "    if group_c is None:\n",
    "        raise ValueError(f\"Neither '{possible_group_c[0]}' nor '{possible_group_c[1]}' found in the dataset.\")\n",
    "    \n",
    "    # Filter for groups A, B, and C\n",
    "    subset_mask = (\n",
    "        (adata.obs[group_column] == f\"{group_a}_linker\") |\n",
    "        (adata.obs[group_column] == f\"{group_b}_linker\") |\n",
    "        (adata.obs[group_column] == group_c)\n",
    "    )\n",
    "    adata_subset = adata[subset_mask].copy()\n",
    "    \n",
    "    # Add categorical columns for group membership in .obs\n",
    "    adata_subset.obs[f\"is_{group_a}\"] = adata_subset.obs[group_column] == f\"{group_a}_linker\"\n",
    "    adata_subset.obs[f\"is_{group_b}\"] = adata_subset.obs[group_column] == f\"{group_b}_linker\"\n",
    "    adata_subset.obs[f\"is_{group_c}\"] = adata_subset.obs[group_column] == group_c\n",
    "    \n",
    "    # Convert the new columns to categorical dtype\n",
    "    for col in [f\"is_{group_a}\", f\"is_{group_b}\", f\"is_{group_c}\"]:\n",
    "        adata_subset.obs[col] = adata_subset.obs[col].astype(\"category\")\n",
    "    \n",
    "    return adata_subset"
   ]
  },
  {
   "cell_type": "code",
   "execution_count": 25,
   "id": "0dca3a63-07d0-4b3a-9c19-4e5398d8d9d0",
   "metadata": {},
   "outputs": [
    {
     "name": "stdout",
     "output_type": "stream",
     "text": [
      "                            num_ligand_oBC_CR num_umis_oBC_CR  \\\n",
      "cell_barcode                                                    \n",
      "AAACAAGCAAACTGGCACAGACCT-1                2.0             5|5   \n",
      "AAACAAGCAAGTTGCAATACGTCA-1                2.0           15|12   \n",
      "AAACAAGCACTTTGTAAGCTGTGA-1                2.0             7|4   \n",
      "AAACAAGCAGAAAGGTATGTTGAC-1                2.0           13|17   \n",
      "AAACAAGCAGACTCAAACTACTCA-1                2.0            2|13   \n",
      "\n",
      "                            num_unique_groups_CR ligand_call_oBC_CR  \\\n",
      "cell_barcode                                                          \n",
      "AAACAAGCAAACTGGCACAGACCT-1                   1.0         IL4_linker   \n",
      "AAACAAGCAAGTTGCAATACGTCA-1                   1.0         IL4_linker   \n",
      "AAACAAGCACTTTGTAAGCTGTGA-1                   1.0           IL4_IL27   \n",
      "AAACAAGCAGAAAGGTATGTTGAC-1                   1.0         IL4_linker   \n",
      "AAACAAGCAGACTCAAACTACTCA-1                   1.0        IL27_linker   \n",
      "\n",
      "                           group_call_CR oBC_classification_CR  \\\n",
      "cell_barcode                                                     \n",
      "AAACAAGCAAACTGGCACAGACCT-1        group3               doublet   \n",
      "AAACAAGCAAGTTGCAATACGTCA-1        group2               doublet   \n",
      "AAACAAGCACTTTGTAAGCTGTGA-1        group3               doublet   \n",
      "AAACAAGCAGAAAGGTATGTTGAC-1        group2               doublet   \n",
      "AAACAAGCAGACTCAAACTACTCA-1        group2               doublet   \n",
      "\n",
      "                            n_genes_by_counts  log1p_n_genes_by_counts  \\\n",
      "cell_barcode                                                             \n",
      "AAACAAGCAAACTGGCACAGACCT-1               2854                 7.956827   \n",
      "AAACAAGCAAGTTGCAATACGTCA-1               3992                 8.292298   \n",
      "AAACAAGCACTTTGTAAGCTGTGA-1               2886                 7.967973   \n",
      "AAACAAGCAGAAAGGTATGTTGAC-1               6394                 8.763272   \n",
      "AAACAAGCAGACTCAAACTACTCA-1               3707                 8.218248   \n",
      "\n",
      "                            total_counts  log1p_total_counts  ...  \\\n",
      "cell_barcode                                                  ...   \n",
      "AAACAAGCAAACTGGCACAGACCT-1        5068.0            8.530899  ...   \n",
      "AAACAAGCAAGTTGCAATACGTCA-1        9449.0            9.153770  ...   \n",
      "AAACAAGCACTTTGTAAGCTGTGA-1        5317.0            8.578853  ...   \n",
      "AAACAAGCAGAAAGGTATGTTGAC-1       24369.0           10.101109  ...   \n",
      "AAACAAGCAGACTCAAACTACTCA-1        8464.0            9.043695  ...   \n",
      "\n",
      "                            pct_counts_ribo  total_counts_oBC  \\\n",
      "cell_barcode                                                    \n",
      "AAACAAGCAAACTGGCACAGACCT-1              0.0              10.0   \n",
      "AAACAAGCAAGTTGCAATACGTCA-1              0.0              27.0   \n",
      "AAACAAGCACTTTGTAAGCTGTGA-1              0.0              12.0   \n",
      "AAACAAGCAGAAAGGTATGTTGAC-1              0.0              31.0   \n",
      "AAACAAGCAGACTCAAACTACTCA-1              0.0              16.0   \n",
      "\n",
      "                            log1p_total_counts_oBC   S_score  G2M_score  \\\n",
      "cell_barcode                                                              \n",
      "AAACAAGCAAACTGGCACAGACCT-1                2.397895  0.342958  -0.650542   \n",
      "AAACAAGCAAGTTGCAATACGTCA-1                3.332205  0.207219   1.464089   \n",
      "AAACAAGCACTTTGTAAGCTGTGA-1                2.564949 -0.568127  -0.561090   \n",
      "AAACAAGCAGAAAGGTATGTTGAC-1                3.465736  1.129949  -0.241433   \n",
      "AAACAAGCAGACTCAAACTACTCA-1                2.833213  0.734329   0.584349   \n",
      "\n",
      "                            phase  leiden  is_IL4  is_IL27  is_IL4_IL27  \n",
      "cell_barcode                                                             \n",
      "AAACAAGCAAACTGGCACAGACCT-1      S       0    True    False        False  \n",
      "AAACAAGCAAGTTGCAATACGTCA-1    G2M      19    True    False        False  \n",
      "AAACAAGCACTTTGTAAGCTGTGA-1     G1       2   False    False         True  \n",
      "AAACAAGCAGAAAGGTATGTTGAC-1      S      16    True    False        False  \n",
      "AAACAAGCAGACTCAAACTACTCA-1      S       1   False     True        False  \n",
      "\n",
      "[5 rows x 29 columns]\n"
     ]
    }
   ],
   "source": [
    "# Example Usage\n",
    "# Assuming `adata` is your AnnData object\n",
    "subset_adata = subset_anndata_by_groups(adata, \"IL4\", \"IL27\", group_column=\"ligand_call_oBC_CR\")\n",
    "# View the resulting .obs\n",
    "print(subset_adata.obs.head())"
   ]
  },
  {
   "cell_type": "code",
   "execution_count": 57,
   "id": "8fac095a-5cd9-4468-93c3-372381403960",
   "metadata": {},
   "outputs": [],
   "source": [
    "import numpy as np\n",
    "import pandas as pd\n",
    "import statsmodels.api as sm\n",
    "\n",
    "def compute_glimmirs_int_model_with_groups(adata_subset,target_gene,A,B):\n",
    "    \"\"\"\n",
    "    Compute the GLiMMIRS-int model for a single gene in a subsetted AnnData object,\n",
    "    using is_A, is_B, and is_A_B columns as X_A, X_B, and X_AB, respectively.\n",
    "    \n",
    "    Parameters:\n",
    "        adata_subset: AnnData object\n",
    "            Subsetted AnnData object from the `subset_anndata_by_groups` function.\n",
    "    \n",
    "    Returns:\n",
    "        model_results: statsmodels GLMResults\n",
    "            Results of the GLM model fit.\n",
    "    \"\"\"\n",
    "    # Add a pseudocount to avoid inflation of coefficients (as described in the model)\n",
    "    pseudocount = 0.01\n",
    "    y = adata_subset.X[:, adata_subset.var.index == target_gene].toarray().flatten() + pseudocount\n",
    "\n",
    "    # Use is_A, is_B, and is_A_B as X_A, X_B, and X_AB\n",
    "    X_A = adata_subset.obs[f\"is_{A}\"].astype(int)  # Convert boolean to integer\n",
    "    X_B = adata_subset.obs[f\"is_{B}\"].astype(int)  # Convert boolean to integer\n",
    "    X_AB = adata_subset.obs[f\"is_{A}_{B}\"].astype(int)  # Convert boolean to integer\n",
    "    \n",
    "    # Extract additional predictors from adata_subset.obs\n",
    "    X_S = adata_subset.obs[\"S_score\"]  # S cell cycle state\n",
    "    X_G2M = adata_subset.obs[\"G2M_score\"]  # G2M cell cycle state\n",
    "    X_mito = adata_subset.obs[\"pct_counts_mt\"]  # Percentage of mitochondrial reads\n",
    "    ln_s = np.log(adata_subset.obs[\"total_counts\"])  # Sequencing depth scaling factor\n",
    "\n",
    "    # Map non-numeric group_call_CR to numeric values\n",
    "    group_mapping = {group: i for i, group in enumerate(adata_subset.obs[\"group_call_CR\"].unique())}\n",
    "    X_group = adata_subset.obs[\"group_call_CR\"].map(group_mapping)  # Map groups to integers\n",
    "    \n",
    "\n",
    "    # Combine predictors into a DataFrame without an intercept column\n",
    "    predictors = pd.DataFrame({\n",
    "        \"X_A\": X_A,\n",
    "        \"X_B\": X_B,\n",
    "        \"X_AB\": X_AB,\n",
    "        \"X_S\": X_S,\n",
    "        \"X_G2M\": X_G2M,\n",
    "        \"X_mito\": X_mito,\n",
    "        \"X_group\": X_group,\n",
    "        \"ln_s\": ln_s,\n",
    "    })\n",
    "\n",
    "    # Fit a GLM model with a negative binomial distribution\n",
    "    model = sm.GLM(y, predictors,\n",
    "                   family=sm.families.NegativeBinomial(link=sm.families.links.log()))\n",
    "    results = model.fit()\n",
    "\n",
    "    return results"
   ]
  },
  {
   "cell_type": "code",
   "execution_count": 42,
   "id": "0008dbb0-b6a7-46e8-892b-cdf076041e01",
   "metadata": {},
   "outputs": [],
   "source": [
    "# Example Usage\n",
    "# Assuming `adata_subset` is the result of subset_anndata_by_groups\n",
    "subset_adata = subset_anndata_by_groups(adata, \"IL4\", \"IL27\",group_column=\"ligand_call_oBC_CR\")"
   ]
  },
  {
   "cell_type": "code",
   "execution_count": 55,
   "id": "fb84c1d7-1bf4-4670-959d-52b46c6e803f",
   "metadata": {},
   "outputs": [
    {
     "name": "stderr",
     "output_type": "stream",
     "text": [
      "/lila/home/wange7/miniforge3/envs/scanpy_standard/lib/python3.12/site-packages/statsmodels/genmod/families/family.py:1367: ValueWarning: Negative binomial dispersion parameter alpha not set. Using default value alpha=1.0.\n",
      "  warnings.warn(\"Negative binomial dispersion parameter alpha not \"\n"
     ]
    }
   ],
   "source": [
    "results = compute_glimmirs_int_model_with_groups(subset_adata,\"Il4ra\",\"IL4\",\"IL27\")"
   ]
  },
  {
   "cell_type": "code",
   "execution_count": 56,
   "id": "04e509f0-71bc-4f00-8b12-3631172be4e7",
   "metadata": {},
   "outputs": [
    {
     "name": "stdout",
     "output_type": "stream",
     "text": [
      "                 Generalized Linear Model Regression Results                  \n",
      "==============================================================================\n",
      "Dep. Variable:                      y   No. Observations:                14207\n",
      "Model:                            GLM   Df Residuals:                    14199\n",
      "Model Family:        NegativeBinomial   Df Model:                            7\n",
      "Link Function:                    Log   Scale:                          1.0000\n",
      "Method:                          IRLS   Log-Likelihood:                -33035.\n",
      "Date:                Wed, 27 Nov 2024   Deviance:                       7860.0\n",
      "Time:                        11:50:24   Pearson chi2:                 6.74e+03\n",
      "No. Iterations:                     8   Pseudo R-squ. (CS):             0.4801\n",
      "Covariance Type:            nonrobust                                         \n",
      "==============================================================================\n",
      "                 coef    std err          z      P>|z|      [0.025      0.975]\n",
      "------------------------------------------------------------------------------\n",
      "X_A           -7.5938      0.264    -28.727      0.000      -8.112      -7.076\n",
      "X_B           -9.5955      0.265    -36.222      0.000     -10.115      -9.076\n",
      "X_AB          -7.4903      0.266    -28.133      0.000      -8.012      -6.968\n",
      "X_S           -0.2943      0.019    -15.191      0.000      -0.332      -0.256\n",
      "X_G2M         -0.1581      0.017     -9.180      0.000      -0.192      -0.124\n",
      "X_mito         0.0386      0.015      2.535      0.011       0.009       0.068\n",
      "X_group        0.0148      0.012      1.215      0.225      -0.009       0.039\n",
      "ln_s           1.0683      0.030     36.140      0.000       1.010       1.126\n",
      "==============================================================================\n"
     ]
    }
   ],
   "source": [
    "print(results.summary())"
   ]
  },
  {
   "cell_type": "code",
   "execution_count": null,
   "id": "3dff53ac-1017-4b5b-b0ac-d09944f937c4",
   "metadata": {},
   "outputs": [],
   "source": [
    "df = pd.DataFrame(adata.X.toarray(), index=\n",
    "\n",
    "subset_adata.X"
   ]
  },
  {
   "cell_type": "code",
   "execution_count": 59,
   "id": "ac502622-52ab-4022-906e-116628ff5594",
   "metadata": {},
   "outputs": [],
   "source": [
    "def anndata_X_to_df(adata):\n",
    "    \"\"\"\n",
    "    Save the `.X` matrix of an AnnData object as a CSV file with cell barcodes and column names preserved.\n",
    "\n",
    "    Parameters:\n",
    "        adata: AnnData object\n",
    "            The AnnData object containing the matrix to be saved.\n",
    "        output_file: str\n",
    "            The path to save the CSV file.\n",
    "    \"\"\"\n",
    "    # Convert .X to a DataFrame\n",
    "    df = pd.DataFrame(\n",
    "        adata.X.toarray() if hasattr(adata.X, \"toarray\") else adata.X,  # Convert sparse matrix to dense if needed\n",
    "        index=adata.obs.index,  # Use cell barcodes as row indices\n",
    "        columns=adata.var.index  # Use feature names (e.g., gene names) as column names\n",
    "    )\n",
    "    \n",
    "    # Save DataFrame to a CSV file\n",
    "    return df"
   ]
  },
  {
   "cell_type": "code",
   "execution_count": 74,
   "id": "5eb54aaf-9e4c-40f4-a5b9-9a8f3e6384fc",
   "metadata": {},
   "outputs": [],
   "source": [
    "tiny_ad = adata[:, adata.var.index.isin(['Il4ra','Acvr1a','Irf4','Il12rb2','Metrnl'])]\n",
    "temp = anndata_X_to_df(tiny_ad).to_csv(\"/data/rudensky/EYW/git_projects/SIG07/analysis_outs/IL4_IL27_test_counts.csv\")\n",
    "tiny_ad.obs.to_csv(\"/data/rudensky/EYW/git_projects/SIG07/analysis_outs/IL4_IL27_test_obs.csv\")"
   ]
  },
  {
   "cell_type": "code",
   "execution_count": null,
   "id": "cb2d5cfb-763d-4a71-a14f-fdfa0dd701ba",
   "metadata": {},
   "outputs": [],
   "source": [
    "temp"
   ]
  }
 ],
 "metadata": {
  "kernelspec": {
   "display_name": "Python [conda env:scanpy_standard]",
   "language": "python",
   "name": "conda-env-scanpy_standard-py"
  },
  "language_info": {
   "codemirror_mode": {
    "name": "ipython",
    "version": 3
   },
   "file_extension": ".py",
   "mimetype": "text/x-python",
   "name": "python",
   "nbconvert_exporter": "python",
   "pygments_lexer": "ipython3",
   "version": "3.12.5"
  }
 },
 "nbformat": 4,
 "nbformat_minor": 5
}
